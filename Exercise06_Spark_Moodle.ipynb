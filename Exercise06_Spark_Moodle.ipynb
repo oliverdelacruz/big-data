{
    "cells": [
        {
            "cell_type": "markdown",
            "metadata": {},
            "source": [
                "# Preparation for the moodle exercise in Spark\n",
                "\n",
                "In this jupyter notebook we are going to make the preprocessing part of the dataset that is going to be used in the graded exercise of this week.\n",
                "\n",
                "## Getting the data\n",
                "\n",
                "Follow the procedure that is described below. The dataset can be found here: http://data.greatlanguagegame.com.s3.amazonaws.com/confusion-2014-03-02.tbz2. More specifically do the following:\n",
                "- login using ssh to your cluster:  ```ssh <ssh_user_name>@<cluster_name>-ssh.azurehdinsight.net```\n",
                "- download the data: ```wget http://data.greatlanguagegame.com.s3.amazonaws.com/confusion-2014-03-02.tbz2```\n",
                "- extract the data: ```tar -jxvf confusion-2014-03-02.tbz2```\n",
                "- upload the data to HDFS: ```hdfs dfs -put confusion-2014-03-02/confusion-2014-03-02.json /tmp/```\n",
                "\n",
                "\n",
                "After you have uploaded the dataset into the Azure Blob, upload this notebook onto the Spark Jupyter server  (`https://<cluster-name>.azurehdinsight.net/jupyter`).\n",
                "\n",
                "## More Info about the data\n",
                "You can find more information about the dataset (as well as the schema and examples) in this link: http://lars.yencken.org/datasets/languagegame/\n"
            ]
        },
        {
            "cell_type": "markdown",
            "metadata": {},
            "source": [
                "## Preprocessing commands\n",
                "In your newly created notebook run these commands in order to have the dataset into an RDD:"
            ]
        },
        {
            "cell_type": "code",
            "execution_count": 1,
            "metadata": {},
            "outputs": [
                {
                    "name": "stdout",
                    "output_type": "stream",
                    "text": [
                        "Starting Spark application\n"
                    ]
                },
                {
                    "data": {
                        "text/html": [
                            "<table>\n",
                            "<tr><th>ID</th><th>YARN Application ID</th><th>Kind</th><th>State</th><th>Spark UI</th><th>Driver log</th><th>Current session?</th></tr><tr><td>4</td><td>application_1540739820917_0007</td><td>pyspark3</td><td>idle</td><td><a target=\"_blank\" href=\"http://hn1-testsp.is1cwceqmzjebk5xt3dw2ycz2a.cx.internal.cloudapp.net:8088/proxy/application_1540739820917_0007/\">Link</a></td><td><a target=\"_blank\" href=\"http://wn1-testsp.is1cwceqmzjebk5xt3dw2ycz2a.cx.internal.cloudapp.net:30060/node/containerlogs/container_e02_1540739820917_0007_01_000001/livy\">Link</a></td><td>\u2714</td></tr></table>"
                        ],
                        "text/plain": [
                            "<IPython.core.display.HTML object>"
                        ]
                    },
                    "metadata": {},
                    "output_type": "display_data"
                },
                {
                    "name": "stdout",
                    "output_type": "stream",
                    "text": [
                        "SparkSession available as 'spark'.\n"
                    ]
                }
            ],
            "source": [
                "import json\n",
                "\n",
                "path = \"/tmp/confusion-2014-03-02.json\"\n",
                "raw_data = sc.textFile(path)\n",
                "dataset = raw_data.map(json.loads).cache()"
            ]
        },
        {
            "cell_type": "markdown",
            "metadata": {},
            "source": [
                "After that you will be able to run the queries of the moodle question of this week. The RDD that you have to perform your queries on is the ```dataset``` one. For example, the following command returns one element of the dataset:"
            ]
        },
        {
            "cell_type": "code",
            "execution_count": 2,
            "metadata": {},
            "outputs": [
                {
                    "name": "stdout",
                    "output_type": "stream",
                    "text": [
                        "[{'choices': ['Maori', 'Mandarin', 'Norwegian', 'Tongan'], 'guess': 'Norwegian', 'target': 'Norwegian', 'date': '2013-08-19', 'country': 'AU', 'sample': '48f9c924e0d98c959d8a6f1862b3ce9a'}]"
                    ]
                }
            ],
            "source": [
                "dataset.take(1)"
            ]
        },
        {
            "cell_type": "markdown",
            "metadata": {},
            "source": [
                "## Instructions:\n",
                "\n",
                "In every query we ask you for three quantities: the query itself, the result of the query as well as the productivity time. That means the development time of each query (time elapsed before you start writing the query, and the time at which the correct, final query is ready). Note that the time part of every question is optional and not graded. In order to make easier the time recording we created two functions that do it automatically. Run the cell below in order to import the functions into the current notebook. Then before each query we will have a ```start_exercise()``` cell that you have to run in order to start time recording. After you have finished your query and you are sure about the answer run the ```finish_exercise()``` one to get the time measurement. "
            ]
        },
        {
            "cell_type": "code",
            "execution_count": 3,
            "metadata": {
                "collapsed": true
            },
            "outputs": [],
            "source": [
                "import time\n",
                "\n",
                "def start_exercise():\n",
                "    global last\n",
                "    last = time.time()\n",
                "    \n",
                "def finish_exercise():\n",
                "    global last\n",
                "    print(\"This exercise took {0}s\".format(int(time.time()-last)))"
            ]
        },
        {
            "cell_type": "markdown",
            "metadata": {},
            "source": [
                "If you want to have a part of the dataset in order to run faster experiments then run the cell below and run your queries against the ```dataset_part``` RDD. However your final answer, the format of your final query and the productivity time should be run/measured against the whole dataset."
            ]
        },
        {
            "cell_type": "code",
            "execution_count": 4,
            "metadata": {
                "collapsed": true
            },
            "outputs": [],
            "source": [
                "dataset_part = dataset.sample(False, 0.0001).cache()"
            ]
        },
        {
            "cell_type": "markdown",
            "metadata": {},
            "source": [
                "## Assignment 1\n",
                "Find the number of games where the guessed language is correct (meaning equal to the target one) and that language is Russian."
            ]
        },
        {
            "cell_type": "code",
            "execution_count": 5,
            "metadata": {
                "collapsed": true
            },
            "outputs": [],
            "source": [
                "start_exercise()"
            ]
        },
        {
            "cell_type": "code",
            "execution_count": 6,
            "metadata": {},
            "outputs": [
                {
                    "name": "stdout",
                    "output_type": "stream",
                    "text": [
                        "290818"
                    ]
                }
            ],
            "source": [
                "dataset \\\n",
                "    .filter(lambda o: o['guess'] == o['target']) \\\n",
                "    .filter(lambda o: o['target'] == 'Russian') \\\n",
                "    .count()"
            ]
        },
        {
            "cell_type": "code",
            "execution_count": 7,
            "metadata": {},
            "outputs": [
                {
                    "name": "stdout",
                    "output_type": "stream",
                    "text": [
                        "This exercise took 47s"
                    ]
                }
            ],
            "source": [
                "finish_exercise()"
            ]
        },
        {
            "cell_type": "markdown",
            "metadata": {},
            "source": [
                "## Assignment 2\n",
                "Return the number of distinct \"target\" languages."
            ]
        },
        {
            "cell_type": "code",
            "execution_count": 8,
            "metadata": {
                "collapsed": true
            },
            "outputs": [],
            "source": [
                "start_exercise()"
            ]
        },
        {
            "cell_type": "code",
            "execution_count": 9,
            "metadata": {},
            "outputs": [
                {
                    "name": "stdout",
                    "output_type": "stream",
                    "text": [
                        "78"
                    ]
                }
            ],
            "source": [
                "dataset \\\n",
                "    .map(lambda o: o['target']) \\\n",
                "    .distinct() \\\n",
                "    .count()"
            ]
        },
        {
            "cell_type": "code",
            "execution_count": 10,
            "metadata": {},
            "outputs": [
                {
                    "name": "stdout",
                    "output_type": "stream",
                    "text": [
                        "This exercise took 15s"
                    ]
                }
            ],
            "source": [
                "finish_exercise()"
            ]
        },
        {
            "cell_type": "markdown",
            "metadata": {},
            "source": [
                "## Assignment 3\n",
                "Return the sample IDs (i.e., the *sample* field) of the top three games where the guessed language is correct (equal to the target one) ordered by language (ascending), then by country (ascending), then by date (ascending)."
            ]
        },
        {
            "cell_type": "code",
            "execution_count": 11,
            "metadata": {
                "collapsed": true
            },
            "outputs": [],
            "source": [
                "start_exercise()"
            ]
        },
        {
            "cell_type": "code",
            "execution_count": 12,
            "metadata": {},
            "outputs": [
                {
                    "name": "stdout",
                    "output_type": "stream",
                    "text": [
                        "[{'choices': ['Albanian', 'Macedonian'], 'guess': 'Albanian', 'target': 'Albanian', 'date': '2013-09-04', 'country': 'A1', 'sample': '00b85faa8b878a14f8781be334deb137'}, {'choices': ['Albanian', 'Bulgarian', 'Indonesian', 'Portuguese'], 'guess': 'Albanian', 'target': 'Albanian', 'date': '2013-09-05', 'country': 'A1', 'sample': 'efcd813daec1c836d9f030b30caa07ce'}, {'choices': ['Albanian', 'Hindi', 'Swahili'], 'guess': 'Albanian', 'target': 'Albanian', 'date': '2013-09-08', 'country': 'A1', 'sample': '13722ceed1eede7ba597ade9b4cb9807'}]"
                    ]
                }
            ],
            "source": [
                "dataset \\\n",
                "    .filter(lambda o: o['guess'] == o['target']) \\\n",
                "    .map(lambda o: ((o['target'], o['country'], o['date']), o)) \\\n",
                "    .sortByKey() \\\n",
                "    .map(lambda t: t[1]) \\\n",
                "    .take(3)"
            ]
        },
        {
            "cell_type": "code",
            "execution_count": 13,
            "metadata": {},
            "outputs": [
                {
                    "name": "stdout",
                    "output_type": "stream",
                    "text": [
                        "This exercise took 95s"
                    ]
                }
            ],
            "source": [
                "finish_exercise()"
            ]
        },
        {
            "cell_type": "markdown",
            "metadata": {},
            "source": [
                "## Assignment 4\n",
                "Aggregate all games by country and target language, counting the number of guesses for each group and return the frequencies of the three most frequent country/language combinations."
            ]
        },
        {
            "cell_type": "code",
            "execution_count": 14,
            "metadata": {
                "collapsed": true
            },
            "outputs": [],
            "source": [
                "start_exercise()"
            ]
        },
        {
            "cell_type": "code",
            "execution_count": 15,
            "metadata": {},
            "outputs": [
                {
                    "name": "stdout",
                    "output_type": "stream",
                    "text": [
                        "[(112934, ('US', 'French')), (112007, ('US', 'German')), (110919, ('US', 'Spanish'))]"
                    ]
                }
            ],
            "source": [
                "dataset \\\n",
                "    .map(lambda o: ((o['country'], o['target']), 1)) \\\n",
                "    .reduceByKey(lambda i1, i2: i1 + i2) \\\n",
                "    .map(lambda t: (t[1], t[0])) \\\n",
                "    .sortByKey(ascending=False) \\\n",
                "    .take(3)"
            ]
        },
        {
            "cell_type": "code",
            "execution_count": 16,
            "metadata": {},
            "outputs": [
                {
                    "name": "stdout",
                    "output_type": "stream",
                    "text": [
                        "This exercise took 15s"
                    ]
                }
            ],
            "source": [
                "finish_exercise()"
            ]
        },
        {
            "cell_type": "markdown",
            "metadata": {},
            "source": [
                "## Assignment 5\n",
                "Find the overall percentage of correct guesses when the first answer (amongst the array of possible answers) was the correct one."
            ]
        },
        {
            "cell_type": "code",
            "execution_count": 17,
            "metadata": {
                "collapsed": true
            },
            "outputs": [],
            "source": [
                "start_exercise()"
            ]
        },
        {
            "cell_type": "code",
            "execution_count": 18,
            "metadata": {},
            "outputs": [
                {
                    "name": "stdout",
                    "output_type": "stream",
                    "text": [
                        "0.25603983084476356"
                    ]
                }
            ],
            "source": [
                "n = dataset \\\n",
                "    .filter(lambda o: o['guess'] == o['target']) \\\n",
                "    .filter(lambda o: o['target'] == o['choices'][0]) \\\n",
                "    .count()\n",
                "n_tot = dataset.count()\n",
                "n / n_tot"
            ]
        },
        {
            "cell_type": "code",
            "execution_count": 19,
            "metadata": {},
            "outputs": [
                {
                    "name": "stdout",
                    "output_type": "stream",
                    "text": [
                        "This exercise took 23s"
                    ]
                }
            ],
            "source": [
                "finish_exercise()"
            ]
        },
        {
            "cell_type": "markdown",
            "metadata": {},
            "source": [
                "## Assignment 6\n",
                "Sort the languages by decreasing overall percentage of correct guesses and return the first three languages."
            ]
        },
        {
            "cell_type": "code",
            "execution_count": 20,
            "metadata": {
                "collapsed": true
            },
            "outputs": [],
            "source": [
                "start_exercise()"
            ]
        },
        {
            "cell_type": "code",
            "execution_count": 21,
            "metadata": {},
            "outputs": [
                {
                    "name": "stdout",
                    "output_type": "stream",
                    "text": [
                        "[(0.9382414927447232, 'French'), (0.9197634593055483, 'German'), (0.8956432115670598, 'Spanish')]"
                    ]
                }
            ],
            "source": [
                "dataset \\\n",
                "    .map(lambda o: (o['target'], (1, 1 if o['target'] == o['guess'] else 0))) \\\n",
                "    .reduceByKey(lambda t1, t2: (t1[0] + t2[0], t1[1] + t2[1])) \\\n",
                "    .map(lambda t: (t[1][1]/t[1][0], t[0])) \\\n",
                "    .sortByKey(ascending=False) \\\n",
                "    .take(3)"
            ]
        },
        {
            "cell_type": "code",
            "execution_count": 22,
            "metadata": {},
            "outputs": [
                {
                    "name": "stdout",
                    "output_type": "stream",
                    "text": [
                        "This exercise took 15s"
                    ]
                }
            ],
            "source": [
                "finish_exercise()"
            ]
        },
        {
            "cell_type": "markdown",
            "metadata": {},
            "source": [
                "## Assignment 7\n",
                "Return the number games played on the latest day."
            ]
        },
        {
            "cell_type": "code",
            "execution_count": 23,
            "metadata": {
                "collapsed": true
            },
            "outputs": [],
            "source": [
                "start_exercise()"
            ]
        },
        {
            "cell_type": "code",
            "execution_count": 24,
            "metadata": {},
            "outputs": [
                {
                    "name": "stdout",
                    "output_type": "stream",
                    "text": [
                        "Latest day: 2014-03-01\n",
                        "65653"
                    ]
                }
            ],
            "source": [
                "latest_day = dataset \\\n",
                "    .map(lambda o: (o['date'], 0)) \\\n",
                "    .sortByKey(False) \\\n",
                "    .take(1)[0][0]\n",
                "print(\"Latest day:\", latest_day)\n",
                "dataset \\\n",
                "    .filter(lambda o: o['date'] == latest_day) \\\n",
                "    .count()"
            ]
        },
        {
            "cell_type": "code",
            "execution_count": 25,
            "metadata": {},
            "outputs": [
                {
                    "name": "stdout",
                    "output_type": "stream",
                    "text": [
                        "This exercise took 55s"
                    ]
                }
            ],
            "source": [
                "finish_exercise()"
            ]
        }
    ],
    "metadata": {
        "kernelspec": {
            "display_name": "PySpark3",
            "language": "",
            "name": "pyspark3kernel"
        },
        "language_info": {
            "codemirror_mode": {
                "name": "python",
                "version": 3
            },
            "mimetype": "text/x-python",
            "name": "pyspark3",
            "pygments_lexer": "python3"
        }
    },
    "nbformat": 4,
    "nbformat_minor": 2
}
