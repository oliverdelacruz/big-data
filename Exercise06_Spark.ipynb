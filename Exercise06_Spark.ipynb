{
    "cells": [
        {
            "cell_type": "markdown",
            "metadata": {},
            "source": [
                "# <center>Big Data &ndash; Exercises</center>\n",
                "## <center>Fall 2018 &ndash; Week 6 &ndash; ETH Zurich</center>\n",
                "## <center>YARN + Spark</center>"
            ]
        },
        {
            "cell_type": "markdown",
            "metadata": {},
            "source": [
                "Reading: \n",
                "-  Matei Zaharia, Holden Karau, Andy Konwinski, Patrick Wendell (2015). Learning Spark. O\u2019Reilly Media, Inc.  [ETH library] (Chapters 3,4: mandatory; 5,6,8 optional)\n",
                "-  White, T. (2015). Hadoop: The Definitive Guide (4th ed.). O\u2019Reilly Media, Inc. [ETH library] (Chapters 4: mandatory)\n",
                "-  Recommended: Vinod Kumar Vavilapalli et al. (2013) Apache Hadoop YARN: Yet Another Resource Negotiator [link](https://dl.acm.org/citation.cfm?id=2523633)\n",
                "-  Recommended: Matei Zaharia et al. (2012) Resilient Distributed Datasets: A Fault-Tolerant Abstraction for In-Memory Cluster Computing [link](https://www.usenix.org/node/162809)\n",
                " \n",
                "\n",
                "This exercise will consist of 2 main parts: \n",
                "* Architecture and theory of YARN\n",
                "* Hands-on practice with Spark on Azure HDInsight"
            ]
        },
        {
            "cell_type": "markdown",
            "metadata": {},
            "source": [
                "# Exercise 1 &mdash; What is YARN?\n",
                "\n",
                "Fundamentally, \u201cYet Another Resource Negotiator,\u201d **YARN**  is a resource scheduler designed to work on existing and new Hadoop clusters. "
            ]
        },
        {
            "cell_type": "markdown",
            "metadata": {},
            "source": [
                "### 1.1 &ndash; List at least 3 main shortcomings of MapReduce v1, which are addressed by YARN design."
            ]
        },
        {
            "cell_type": "markdown",
            "metadata": {},
            "source": [
                "### Solution\n",
                "1. Scalability. Scale to 10,000 nodes.\n",
                "2. Need for non-MapReduce workloads. Ability to share cluster with MPI, graph processing, and any user code.\n",
                "3. Better resource utilization. Problem with idle reducers, when mappers are not finished (and vice versa). The entire system should be used at maximum capacity when needed.\n",
                "4. Agility. Ability to maintain MapReduce frameworks of different versions."
            ]
        },
        {
            "cell_type": "markdown",
            "metadata": {},
            "source": [
                "### 1.2 &ndash; State which of the following statements are true:\n",
                "\n",
                "1. The ResourceManager has to provide fault tolerance for resources across the cluster \n",
                "\n",
                "1. Container allocation/deallocation can take place in a dynamic fashion as the application progresses. \n",
                "\n",
                "1. An application can only request resources in terms of memory usage and number of CPUs. \n",
                "\n",
                "1. Communications between the ResourceManager and NodeManagers are heartbeat-based. \n",
                "\n",
                "1. The ResourceManager does not have a global view of all usage of cluster resources. Therefore, it tries to make better scheduling decisions based on probabilistic prediction. \n",
                "\n",
                "1. ResourceManager has the ability to request resources back from a running application."
            ]
        },
        {
            "cell_type": "markdown",
            "metadata": {},
            "source": [
                "### Solution\n",
                "\n",
                "1. [False]\n",
                "\n",
                "1. [True]\n",
                "\n",
                "1. [False] \n",
                "\n",
                "1. [True]\n",
                "\n",
                "1. [False]\n",
                "\n",
                "1. [True]"
            ]
        },
        {
            "cell_type": "markdown",
            "metadata": {},
            "source": [
                "### 1.3 &ndash; Whose responsibility is it? Say which component of YARN is resposible for each of the following tasks.\n",
                "\n",
                "1. Fault Tolerance of running applications *[ResourceManager | ApplicationMaster | NodeManager ]*\n",
                "1. Asking for resources needed for an application *[ResourceManager | ApplicationMaster | NodeManager ]*\n",
                "\n",
                "1. Providing leases to use containers *[ResourceManager | ApplicationMaster | NodeManager]*\n",
                "\n",
                "1. Tracking status and progress of running applications *[ResourceManager | ApplicationMaster | NodeManager]*\n",
                "\n",
                "\n",
                "\n"
            ]
        },
        {
            "cell_type": "markdown",
            "metadata": {},
            "source": [
                "### Solution\n",
                "\n",
                "1. Fault Tolerance of running applications *[ResourceManager | **ApplicationMaster** | NodeManager ]*\n",
                "\n",
                "1. Asking for resources needed for an application *[ResourceManager | **ApplicationMaster** | NodeManager ]*\n",
                "\n",
                "1. Providing leases to use containers *[**ResourceManager** | ApplicationMaster | NodeManager]*\n",
                "\n",
                "1. Tracking status and progress of running applications *[ResourceManager | **ApplicationMaster** | NodeManager]*\n",
                "\n"
            ]
        },
        {
            "cell_type": "markdown",
            "metadata": {},
            "source": [
                "### 1.4 &ndash; What is the typical configuration for YARN? Choose for the following components how many instances of them there are in a cluster.\n",
                "\n",
                "```\n",
                "1. ResourceManager                  a. One per cluster\n",
                "\n",
                "2. ApplicationMaster                b. One per node\n",
                "\n",
                "3. NodeManager                      c. Many per cluster, but not per every node\n",
                "\n",
                "4. Container                        d. Many per node \n",
                "```\n"
            ]
        },
        {
            "cell_type": "markdown",
            "metadata": {},
            "source": [
                "### Solution\n",
                "1 - a  \n",
                "2 - c  \n",
                "3 - b  \n",
                "4 - d  \n",
                "\n",
                "Note that we can have multiple ApplicationMasters on the same node as long as they belong to different applications and none of them is aware about the presence of the other ApplicationMasters."
            ]
        },
        {
            "cell_type": "markdown",
            "metadata": {},
            "source": [
                "#  CapacityScheduler."
            ]
        },
        {
            "cell_type": "markdown",
            "metadata": {},
            "source": [
                "The CapacityScheduler is a pluggable scheduler for YARN which allows for multiple tenants to securely share a large cluster such that their applications are allocated resources in a timely manner under constraints of allocated capacities. The CapacityScheduler is designed to maximize the throughput and the utilization of the cluster.\n",
                "\n",
                "Consider the following hierarchical queues configuration for CapacityScheduler with the DefaultResourceCalculator, which takes into account only memory usage.\n",
                "\n",
                "\n",
                "![img](https://ethbigdata2017.blob.core.windows.net/exercise06/schedule.png)"
            ]
        },
        {
            "cell_type": "markdown",
            "metadata": {
                "collapsed": true
            },
            "source": [
                "### 1.5 &ndash;  Calculate configured capacities of all leaves, assuming a cluster of 100 nodes, each with 10 GB of memory allocated for YARN containers"
            ]
        },
        {
            "cell_type": "markdown",
            "metadata": {},
            "source": [
                "### Solution\n",
                "Total capacity = 100 nodes x 10 GB = 1000 GB   \n",
                "Spark = 1000 GB x 0.4 = 400 GB   \n",
                "Jack = 400 GB x 0.3 = 120 GB   \n",
                "Phill = 400 GB x 0.7 = 280 GB  \n",
                "MPI = 1000 GB x 0.1 = 100 GB  \n",
                "Jim's lab = 1000 GB x 0.5 = 500 GB "
            ]
        },
        {
            "cell_type": "markdown",
            "metadata": {},
            "source": [
                "### 1.6 &ndash; Consider the following timeline of events happening in the cluster:\n",
                "\n",
                "#### Scenario 1\n",
                "\n",
                "1. In the beginning, the entire cluster is free, with no application in any queues. User A submits 3 applications to queue *Jack* with 120 GB of required memory each. Assume each application takes 1 hour to finish. After how much time will all 3 application be finished and why?\n",
                "\n",
                "2. 30 minutes after the user A submitted their jobs, user B submits an application to queue *Phill* with resource requirements of 280GB. Assuming that the task takes 2 hours to complete and preemption is disabled, when will all jobs be finished?\n",
                "\n",
                "#### Scenario 2\n",
                "\n",
                "1. In the beginning, the entire cluster is free, with no application in any queues. User A submits 10 applications to queue *Jack* with 100 GB of required memory each. Assume each application takes 1 hour to finish. After how much time will all 10 application be finished and why?\n",
                "\n",
                "2. 30 minutes after user A submitted their jobs, user B submits an application to queue *Phill* with resource requirements of 280GB. Assuming that the task takes 2 hours to complete and preemption is disabled, when will all jobs be finished?"
            ]
        },
        {
            "cell_type": "markdown",
            "metadata": {},
            "source": [
                "### Solution\n",
                "Scenario 1.\n",
                "1. All three aplications will be launched at the same time regardless capacity of the queue, since there are enough cluster resources to run all three jobs together ($120*3 \\le 1000$).\n",
                "2. In 30 minutes, the job of user B  will also start executing since the cluster will have $1000-120*3 = 640 GB$ of free resources. Therefore, the whole execution will take 2.5 hours.\n",
                "\n",
                "\n",
                "Scenario 2.\n",
                "1. All 10 aplications will be launched at the same time regardless capacity of the queue, since there are enough cluster resources to run all 10 jobs together ($100 * 10 \\le 1000$).\n",
                "2. In 30 minutes, the job of the user B  will arrive and get inserted in a waiting queue, since there will be no resources to start the job. In 1 hour all cluster resources will become available and the task of user B will start being executed. Therefore, the whole execution will take 3 hours"
            ]
        },
        {
            "cell_type": "markdown",
            "metadata": {},
            "source": [
                "### 1.7 &ndash; Assuming a cluster of 10 nodes, each with 16 GB of memory and 2 cores allocated for YARN containers.  For the same CapacityScheduler configuration but with the DominantResourceCalculator (takes into account memory usage and CPUs), consider the following timeline of events happening in the cluster:\n",
                "\n",
                "\n",
                "\n",
                "#### Scenario 1\n",
                "\n",
                "1. In the beginning, the entire cluster is free, with no application in any queues. User A submits 3 applications to queue *Jack* with *(80 GB, 10 CPUs)* resource requirements each. Assume each application takes 1 hour to finish. \n",
                "\n",
                "2. 30 minutes after the user A submitted their jobs, user B submits an application to queue *Phill* with resource requirements of *(580 GB, 10 CPUs)*. Assuming that the task takes 2 hours to complete and preemption is disabled, when will all jobs be finished?\n",
                "\n",
                "#### Scenario 2\n",
                "\n",
                "1. In the beginning, the entire cluster is free, with no applications in any queues. User A submits 2 applications to queue *Jack* with *(60 GB, 6 CPUs)* resource requirements each. In addition, user B submits 2 applications to queue *Phill* with resource requirements of *(10 GB, 10 CPUs)* each. Assume each application takes 1 hour to finish and preemption is disabled, when will all jobs be finished?\n",
                "\n",
                "\n",
                "#### Scenario 3\n",
                "\n",
                "1. In the beginning, the entire cluster is free, with no applications in any queues. User A submits 1 application to queue *Jack* with *(1 GB, 20 CPUs)* resource requirements. Assume that the application runs for 1 hour.\n",
                "\n",
                "2. 30 minutes after the user A submitted their jobs, user B submits an application to queue *Phill* with resource requirements of *(100 GB, 1 CPU)*. Assuming that the task takes 2 hours to complete and preemption is disabled, when will all jobs be finished?\n"
            ]
        },
        {
            "cell_type": "markdown",
            "metadata": {},
            "source": [
                "### Solution\n",
                "The cluster has total capacity 160GB and 20 CPUs.\n",
                "\t \n",
                "\n",
                " Note. By default, all queues in the capacity scheduler have *user-limit-factor* set to 1 which ensures that a single user can never take more than the queue\u2019s configured capacity irrespective of how idle the cluster is. Therefore, if all queues are configured with the default user-limit-factor, then all jobs will be rejected in all discussed scenarios. Below we assume that the size of a single job is not limited by the *user-limit-factor*. \n",
                "\n",
                "Scenario 1.\n",
                "1. First, two aplications will be launched at the same time, regardless of the capacity of the queue, since there are enough cluster resources to run two jobs together (80 GB,10 CPUs) * 2 <= (160 GB, 20 CPUs). The third job will inserted in the waiting queue.\n",
                "\n",
                "2. After 30 minutes, the job of user B  will be **rejected**, since the cluster cannot satisfy its requirements.\n",
                "\n",
                "Jobs of the client A will be completed within 2 hours.\n",
                "\n",
                "\n",
                "Scenario 2.\n",
                "1. First, we calculate the dominant resource:\n",
                "(60 GB, 6 CPUs) -> (37.5%,30%) -> (**37.5%**,30%)  \n",
                "(10 GB, 10 CPUs) -> (6.25%,50%) -> (6.25%,**50%**)    \n",
                "\n",
                "Since the target capacity is 30:70, we will have the following scenario\n",
                "\n",
                "1. [10,10] Start B.1 at t=0\n",
                "2. [70,16] Start A.1 at t=0\n",
                "3. [0,0] A.1 and B.1 are completed at t=1h\n",
                "4. [10,10] Start B.2 at t=1h\n",
                "5. [70,16] Start A.2 at t=1h\n",
                "6. [0,0] A.2 and B.2 are completed at t=2h\n",
                "\n",
                "In more detail: \n",
                "- At first, both A and B own 0% of each resource. \n",
                "- We know that the dominant resource of A is 37.5% memory and the dominant resource of B is 50% CPUs. \n",
                "- At t=0 both clients use 0% of their dominant share. \n",
                "- In order to solve this tie the first allocation can go to B because it is below its instantaneous fair share (meaning that its dominant resource utilizes less than 70% which is its share in the Spark queue in contrast with A that wants more than 30% which is its share in the queue). \n",
                "- Now A owns 0/30=0% of its fair share of memory (its dominant resource) and B owns 50/70 = 71% of its fair share of CPUs (its dominant resource).\n",
                "- The overall usage of the cluster is 10 of 160 GB and 10 of 20 CPUs. \n",
                "- Thus the next allocation goes to A because it has the least share of its dominant resource (0% vs. 71%). \n",
                "- Now A owns 37.5% of the memory and B owns 50% of the CPUs. By putting fair share weights A owns 37.5/30 = 125% of its fair share of memory and B owns 71% of its fair share of the CPUs.\n",
                "- Overall usage: 70 of 160 GB and 16 of 20 CPUs. The next allocation should go to B (because its fair share weight is less than the one of A - 125% vs. 71% ) but there are not enough resources.\n",
                "- There aren't also enough resources for A either. \n",
                "- The algorithm terminates and both A and B get one container. \n",
                "- One hour later, the same scenario happens again.\n",
                "\n",
                "Scenario 3.\n",
                "It will take 3 hours, since resources for the job of the user B will become available at t = 1h.\n",
                "\n"
            ]
        },
        {
            "cell_type": "markdown",
            "metadata": {},
            "source": [
                "## 2. Setup the Spark cluster in Azure\n",
                "\n",
                "### Create a cluster\n",
                "\n",
                "- Sign into the azure portal (portal.azure.com).\n",
                "- Click \"+\" in the upper left corner.\n",
                "- Search for \"HDInsight\".\n",
                "- Give the cluster a unique name.\n",
                "- In the \"Select Cluster Type\" choose **Spark** and a standard Cluster Tier (Finish with pressing \"select\").\n",
                "- Set up a Spark cluster with default configuration.\n",
                "- Wait for 20 mins so that your cluster is ready.\n",
                "\n",
                "### Access your cluster\n",
                "\n",
                "Make sure you can access your cluster (the NameNode) via SSH:\n",
                "\n",
                "```\n",
                "$ ssh <ssh_user_name>@<cluster_name>-ssh.azurehdinsight.net\n",
                "```\n",
                "\n",
                "If you are using Linux or MacOSX, you can use your standard terminal.\n",
                "If you are using Windows you can use:\n",
                "- Putty SSH Client and PSCP tool (get them at [here](http://www.chiark.greenend.org.uk/~sgtatham/putty/download.html)).\n",
                "- This Notebook server terminal (Click on the Jupyter logo and the goto New -> Terminal).\n",
                "- Azure Cloud Terminal (see the HBase exercise sheet for details)\n",
                "\n",
                "\n",
                "The cluster has its own Jupyter server. We will use it. You can access it through the following link:\n",
                "```\n",
                " https://<cluster_name>.azurehdinsight.net/jupyter\n",
                "```\n",
                "\n",
                "You can access cluster's YARN in your browser\n",
                "```\n",
                " https://<cluster_name>.azurehdinsight.net/yarnui/hn/cluster\n",
                "```\n",
                "\n",
                "The Spark UI can be accessed via Azure Portal, see [Spark job debugging](https://docs.microsoft.com/en-us/azure/hdinsight/hdinsight-apache-spark-job-debugging)\n",
                "\n",
                "# <span style=\"color:red\">You need to upload this notebook to your cluster's Jupyter in order to execute Python code blocks.</span>\n",
                "To do this, just open the Jupyter through the link given above and use the \"Upload\" button.\n"
            ]
        },
        {
            "cell_type": "markdown",
            "metadata": {},
            "source": [
                "## 3. Apache Spark Architecuture\n",
                "\n",
                "Spark is a cluster computing platform designed to be fast and general purpose. Spark extends the MapReduce model to efficiently cover a wide range of workloads that previously required separate distributed systems, including interactive queries and stream processing. Spark offers the ability to run computations in memory.\n",
                "\n",
                "At a high level, every Spark application consists of a **driver program** that launches various parallel operations on a cluster. The driver program contains your application's main function and defines distributed datasets on the cluster, then applies operations to them.\n",
                "\n",
                "Driver programs access Spark through a **SparkContext** object, which represents a connection to a computing cluster. There is no need to create a SparkContext; it is created for you automatically when you run the first code cell in the Jupyter\n",
                "\n",
                "The driver communicates with a potentially large number of distributed workers called **executors**. The driver runs in its own process and each executor is a separate process. A driver and its executors are together termed a Spark application.\n",
                "\n",
                "![Image of Account](http://spark.apache.org/docs/latest/img/cluster-overview.png)"
            ]
        },
        {
            "cell_type": "markdown",
            "metadata": {},
            "source": [
                "### 3.1 Understand resilient distributed datasets (RDD)\n",
                "\n",
                "An RDD in Spark is simply an immutable distributed collection of objects. Each RDD is split into multiple partitions, which may be computed on different nodes of the cluster. \n",
                "\n",
                "##### What are RDD operations?\n",
                "RDDs offer two types of operations: **transformations** and **actions**.\n",
                "\n",
                "* **Transformations** create a new dataset from an existing one. Transformations are lazy, meaning that no transformation is executed until you execute an action.\n",
                "* **Actions** compute a result based on an RDD, and either return it to the driver program or save it to an external storage system (e.g., HDFS)\n",
                "\n",
                "\n"
            ]
        },
        {
            "cell_type": "markdown",
            "metadata": {},
            "source": [
                "Transformations and actions are different because of the way Spark computes RDDs. Although you can define new RDDs any time, Spark computes them only in a **lazy** fashion, that is, the first time they are used in an action."
            ]
        },
        {
            "cell_type": "markdown",
            "metadata": {},
            "source": [
                "##### How do I make an RDD?\n",
                "\n",
                "RDDs can be created from stable storage or by transforming other RDDs. Run the cells below to create RDDs from the sample data files available in the storage container associated with your Spark cluster. One such sample data file is available on the cluster at `wasb:///example/data/fruits.txt`. "
            ]
        },
        {
            "cell_type": "code",
            "execution_count": null,
            "metadata": {
                "collapsed": true
            },
            "outputs": [],
            "source": [
                "fruits = sc.textFile('wasb:///example/data/fruits.txt')\n",
                "yellowThings = sc.textFile('wasb:///example/data/yellowthings.txt')"
            ]
        },
        {
            "cell_type": "markdown",
            "metadata": {},
            "source": [
                "##### RDD transformations\n",
                "Following are examples of some of the common transformations available. For a detailed list, see [RDD Transformations](https://spark.apache.org/docs/2.0.0/programming-guide.html#transformations)\n",
                "\n",
                "Run some transformations below to understand this better.\n",
                "\n"
            ]
        },
        {
            "cell_type": "code",
            "execution_count": null,
            "metadata": {
                "collapsed": true
            },
            "outputs": [],
            "source": [
                "# map\n",
                "fruitsReversed = fruits.map(lambda fruit: fruit[::-1])"
            ]
        },
        {
            "cell_type": "code",
            "execution_count": null,
            "metadata": {
                "collapsed": true
            },
            "outputs": [],
            "source": [
                "# filter\n",
                "shortFruits = fruits.filter(lambda fruit: len(fruit) <= 5)"
            ]
        },
        {
            "cell_type": "code",
            "execution_count": null,
            "metadata": {
                "collapsed": true
            },
            "outputs": [],
            "source": [
                "# flatMap\n",
                "characters = fruits.flatMap(lambda fruit: list(fruit))"
            ]
        },
        {
            "cell_type": "code",
            "execution_count": null,
            "metadata": {
                "collapsed": true
            },
            "outputs": [],
            "source": [
                "# union\n",
                "fruitsAndYellowThings = fruits.union(yellowThings)"
            ]
        },
        {
            "cell_type": "code",
            "execution_count": null,
            "metadata": {
                "collapsed": true
            },
            "outputs": [],
            "source": [
                "# intersection\n",
                "yellowFruits = fruits.intersection(yellowThings)"
            ]
        },
        {
            "cell_type": "code",
            "execution_count": null,
            "metadata": {
                "collapsed": true
            },
            "outputs": [],
            "source": [
                "# distinct\n",
                "distinctFruitsAndYellowThings = fruitsAndYellowThings.distinct()"
            ]
        },
        {
            "cell_type": "code",
            "execution_count": null,
            "metadata": {
                "collapsed": true
            },
            "outputs": [],
            "source": [
                "# groupByKey\n",
                "yellowThingsByFirstLetter = yellowThings.map(lambda thing: (thing[0], thing)).groupByKey()"
            ]
        },
        {
            "cell_type": "code",
            "execution_count": null,
            "metadata": {
                "collapsed": true
            },
            "outputs": [],
            "source": [
                "# reduceByKey\n",
                "numFruitsByLength = fruits.map(lambda fruit: (len(fruit), 1)).reduceByKey(lambda x, y: x + y)"
            ]
        },
        {
            "cell_type": "markdown",
            "metadata": {},
            "source": [
                "##### RDD actions\n",
                "Following are examples of some of the common actions available. For a detailed list, see [RDD Actions](https://spark.apache.org/docs/2.0.0/programming-guide.html#actions).\n",
                "\n",
                "Run some transformations below to understand this better. "
            ]
        },
        {
            "cell_type": "code",
            "execution_count": null,
            "metadata": {
                "collapsed": true
            },
            "outputs": [],
            "source": [
                "# collect\n",
                "fruitsArray = fruits.collect()\n",
                "yellowThingsArray = yellowThings.collect()\n",
                "print(fruitsArray)\n",
                "print(yellowThingsArray)"
            ]
        },
        {
            "cell_type": "code",
            "execution_count": null,
            "metadata": {
                "collapsed": true
            },
            "outputs": [],
            "source": [
                "# count\n",
                "numFruits = fruits.count()\n",
                "numFruits"
            ]
        },
        {
            "cell_type": "code",
            "execution_count": null,
            "metadata": {
                "collapsed": true
            },
            "outputs": [],
            "source": [
                "# take\n",
                "first3Fruits = fruits.take(3)\n",
                "first3Fruits"
            ]
        },
        {
            "cell_type": "code",
            "execution_count": null,
            "metadata": {
                "collapsed": true
            },
            "outputs": [],
            "source": [
                "# reduce\n",
                "letterSet = fruits.map(lambda fruit: set(fruit)).reduce(lambda x, y: x.union(y))\n",
                "letterSet"
            ]
        },
        {
            "cell_type": "markdown",
            "metadata": {},
            "source": [
                "##### Lazy evaluation\n",
                "Lazy evaluation means that when we call a transformation on an RDD (for instance, calling `map()`), the operation is not immediately performed. Instead, Spark internally records metadata to indicate that this operation has been requested. Rather than thinking of an RDD as containing specific data, it is best to think of each RDD as\n",
                "consisting of instructions on how to compute the data that we build up through transformations. Loading data into an RDD is lazily evaluated in the same way transformations are. So, when we call `sc.textFile()`, the data is not loaded until it is necessary. As with transformations, the operation (in this case, reading the data) can\n",
                "occur multiple times.\n",
                "\n",
                "\n",
                "Finally, as you derive new RDDs from each other using transformations, Spark keeps track of the set of dependencies between different RDDs, called the lineage graph. For instance, the code bellow corresponds to the following graph:\n",
                "\n",
                "![graph](https://ethbigdata2017.blob.core.windows.net/exercise06/dag.png)\n",
                "\n"
            ]
        },
        {
            "cell_type": "code",
            "execution_count": null,
            "metadata": {
                "collapsed": true
            },
            "outputs": [],
            "source": [
                "apples = fruits.filter(lambda x: \"apple\" in x)\n",
                "lemons = yellowThings.filter(lambda x: \"lemon\" in x)\n",
                "applesAndLemons = apples.union(lemons)\n",
                "print(applesAndLemons.collect())\n",
                "print(applesAndLemons.toDebugString())"
            ]
        },
        {
            "cell_type": "markdown",
            "metadata": {},
            "source": [
                "### 3.2 Exercise\n",
                "\n",
                "1. What does the code below do?\n",
                "1. Draw the linage graph for the code\n",
                "1. List actions and transformations used in it\n",
                "1. When are all calculations executed?\n",
                "1. If we call `result.collect()` again, what will Spark do to perform the action? "
            ]
        },
        {
            "cell_type": "code",
            "execution_count": null,
            "metadata": {},
            "outputs": [],
            "source": [
                "text = sc.textFile('wasb:///example/data/fruits.txt')\n",
                "words = text.flatMap(lambda x: x.split(\" \"))\n",
                "result = words.map(lambda x: (x, 1)).reduceByKey(lambda x, y: x + y)\n",
                "result.saveAsTextFile('wasb:///example/data/result.txt')\n",
                "result.collect()"
            ]
        },
        {
            "cell_type": "markdown",
            "metadata": {},
            "source": [
                "**Solution**\n",
                "1. It is word counting.\n",
                "1. result.toDebugString\n",
                "1. Transformations: flatMap, map, reduceByKey. Actions: saveAsTextFile, collect\n",
                "1. When saveAsTextFile is called\n",
                "1. It will recalculate everything again, including reading the text file."
            ]
        },
        {
            "cell_type": "markdown",
            "metadata": {},
            "source": [
                "### 3.3 Persistence (Caching)\n",
                "\n",
                "Spark'\u0099s RDDs are by default recomputed each time you run an action on\n",
                "them. If you would like to reuse an RDD in multiple actions, you can ask Spark to persist it using `RDD.persist()`. After computing it the first time, Spark will store the RDD contents in memory (partitioned across the machines in your cluster), and reuse them in future actions. Persisting RDDs on disk instead of memory is also possible.\n",
                "\n",
                "If you attempt to cache too much data to fit in memory, Spark will automatically evict old partitions using a Least Recently Used (LRU) cache policy. For the memory-only storage levels, it will recompute these partitions the next time they are accessed,\n",
                "while for the memory-and-disk ones, it will write them out to disk. In either case, this means that you don't have to worry about your job breaking if you ask Spark to cache too much data. However, caching unnecessary data can lead to eviction of useful data\n",
                "and more recomputation time. Finally, RDDs come with a method called `unpersist()` that lets you manually remove them from the cache.\n"
            ]
        },
        {
            "cell_type": "markdown",
            "metadata": {},
            "source": [
                "### 3.4 Exercise:\n",
                "1. Write some code which can benefit from caching.\n",
                "1. Where should we ask Spark to persist the RDD in Exercise 3.2 to prevent it from re-executing the code when we call `collect()` again?"
            ]
        },
        {
            "cell_type": "code",
            "execution_count": null,
            "metadata": {},
            "outputs": [],
            "source": [
                "# Solution 1\n",
                "fruits.persist()\n",
                "numFruits = fruits.count()\n",
                "first3Fruits = fruits.take(3)\n",
                "fruits.unpersist()\n",
                "print(numFruits,first3Fruits)"
            ]
        },
        {
            "cell_type": "code",
            "execution_count": null,
            "metadata": {
                "collapsed": true
            },
            "outputs": [],
            "source": [
                "# Solution 2\n",
                "text = sc.textFile('wasb:///example/data/fruits.txt')\n",
                "words = text.flatMap(lambda x: x.split(\" \"))\n",
                "result = words.map(lambda x: (x, 1)).reduceByKey(lambda x, y: x + y).persist()\n",
                "result.saveAsTextFile('wasb:///example/data/result.txt')\n",
                "result.collect()"
            ]
        },
        {
            "cell_type": "markdown",
            "metadata": {},
            "source": [
                "### 3.5 Working with Key/Value Pairs\n",
                "\n",
                "\n",
                "Spark provides special operations on RDDs containing key/value pairs. These RDDs\n",
                "are called *pair RDDs*. Pair RDDs are a useful building block in many programs, as\n",
                "they expose operations that allow you to act on each key in parallel or regroup data\n",
                "across the network. For example, pair RDDs have a `reduceByKey()` method that can\n",
                "aggregate data separately for each key, and a `join()` method that can merge two\n",
                "RDDs together by grouping elements with the same key. Pair RDDs are also still RDDs. \n",
                "\n"
            ]
        },
        {
            "cell_type": "code",
            "execution_count": null,
            "metadata": {
                "collapsed": true
            },
            "outputs": [],
            "source": [
                "# Example\n",
                "rdd = sc.parallelize([(\"key1\", 0) ,(\"key2\", 3),(\"key1\", 8) ,(\"key3\", 3),(\"key3\", 9)])\n",
                "rdd2 = rdd.mapValues(lambda x: (x, 1)).reduceByKey(lambda x, y: (x[0] + y[0], x[1] + y[1]))\n",
                "print(rdd2.collect())\n",
                "print(rdd2.toDebugString())"
            ]
        },
        {
            "cell_type": "markdown",
            "metadata": {},
            "source": [
                "### 3.6 Exercise\n",
                "1. What does the code above do? \n",
                "2. Where can it be used? Complete the code to perform the desired functionality. \n"
            ]
        },
        {
            "cell_type": "code",
            "execution_count": null,
            "metadata": {
                "collapsed": true
            },
            "outputs": [],
            "source": [
                "# Solution\n",
                "# 1. it accumulates the values of items and also estimate the number of accumulated elements\n",
                "# 2. It can be used for estimating the average value of every item in the dataset.\n",
                "\n",
                "rdd = sc.parallelize([(\"key1\", 0) ,(\"key2\", 3),(\"key1\", 8) ,(\"key3\", 3),(\"key3\", 9)])\n",
                "rdd2 = rdd.mapValues(lambda x: (x, 1)).reduceByKey(lambda x, y: (x[0] + y[0], x[1] + y[1]))\n",
                "average = rdd2.mapValues(lambda x: x[0]/x[1])\n",
                "print(average.collect())"
            ]
        },
        {
            "cell_type": "markdown",
            "metadata": {},
            "source": [
                "### 3.7 Spark Partitioning\n",
                "Spark programs can choose to control their RDDs' partitioning\n",
                "to reduce communication. Partitioning will not be helpful in all applications, for\n",
                "example, if a given RDD is scanned only once, there is no point in partitioning it in\n",
                "advance. It is useful only when a dataset is reused multiple times in key-oriented\n",
                "operations such as joins.\n",
                "\n",
                "Spark's partitioning is available on all RDDs of key/value pairs, and causes the system\n",
                "to group elements based on a function of each key. Although Spark does not give\n",
                "explicit control of which worker node each key goes to (partly because the system is\n",
                "designed to work even if specific nodes fail), it lets the program ensure that a set of\n",
                "keys will appear together on some node.\n",
                "\n",
                "\n",
                "Many of Spark's operations involve shuffling data by key across the network. All of\n",
                "these will benefit from partitioning. Examples of operations that benefit from\n",
                "partitioning are `cogroup()`, `groupWith()`, `join()`, `leftOuterJoin()`, `rightOuterJoin()`, `groupByKey()`, `reduceByKey()`, `combineByKey()`, and `lookup()`.\n",
                "\n",
                "By default PySpark uses hash partitioning as the partitioning function. A way to define a custom partition is by using the function `partitionBy()`. To use `partitionBy()` the RDD must consist of tuple objects. This function is a transformation, therefore a new RDD will be returned. In the following example we are going to see a default partitioning scheme of Spark as well as a custom partitioning."
            ]
        },
        {
            "cell_type": "code",
            "execution_count": null,
            "metadata": {
                "collapsed": true
            },
            "outputs": [],
            "source": [
                "nums = [(1, 1), (2, 2), (3, 3)]"
            ]
        },
        {
            "cell_type": "code",
            "execution_count": null,
            "metadata": {
                "collapsed": true
            },
            "outputs": [],
            "source": [
                "pairs = sc.parallelize(nums)"
            ]
        },
        {
            "cell_type": "code",
            "execution_count": null,
            "metadata": {
                "collapsed": true
            },
            "outputs": [],
            "source": [
                "print(\"Number of partitions: {}\".format(pairs.getNumPartitions()))\n",
                "print(\"Partitions structure: {}\".format(pairs.glom().collect()))"
            ]
        },
        {
            "cell_type": "markdown",
            "metadata": {
                "collapsed": true
            },
            "source": [
                "Let's try to define a custom partitioning now."
            ]
        },
        {
            "cell_type": "code",
            "execution_count": null,
            "metadata": {
                "collapsed": true
            },
            "outputs": [],
            "source": [
                "pairs = sc.parallelize(nums).partitionBy(2)"
            ]
        },
        {
            "cell_type": "code",
            "execution_count": null,
            "metadata": {
                "collapsed": true
            },
            "outputs": [],
            "source": [
                "print(\"Number of partitions: {}\".format(pairs.getNumPartitions()))\n",
                "print(\"Partitions structure: {}\".format(pairs.glom().collect()))"
            ]
        },
        {
            "cell_type": "markdown",
            "metadata": {},
            "source": [
                "### 3.8 Converting a user program into tasks\n",
                "\n",
                "A Spark driver is responsible for converting a user program into units of physical execution called tasks. At a high level, all Spark programs follow the same structure: they create RDDs from some input, derive new RDDs from those using transformations, and perform actions to collect or save data. A Spark program implicitly creates a logical **directed acyclic graph (DAG)** of operations.\n",
                "When the driver runs, it converts this logical graph into a physical execution plan.\n",
                "\n",
                "Spark performs several optimizations, such as \"pipelining\" map transformations together to merge them, and converts the execution graph into a set of **stages**.\n",
                "Each stage, in turn, consists of multiple tasks. The tasks are bundled up and prepared to be sent to the cluster. Tasks are the smallest unit of work in Spark; a typical user program can launch hundreds or thousands of individual tasks.\n",
                "\n",
                "Each RDD maintains a pointer to one or more parents along with metadata about what\n",
                "type of relationship they have. For instance, when you call `val b = a.map()` on an\n",
                "RDD, the RDD `b` keeps a reference to its parent `a`. These pointers allow an RDD to be\n",
                "traced to all of its ancestors.\n",
                "\n",
                "The following phases occur during Spark execution:\n",
                "* User code defines a DAG (directed acyclic graph) of RDDs. Operations on RDDs create new RDDs that refer back to their parents, thereby creating a graph.\n",
                "* Actions force translation of the DAG to an execution plan. When you call an action on an RDD, it must be computed. This requires computing its parent RDDs as well. \n",
                "* Spark's scheduler submits a job to compute all needed RDDs. That job will have one or more stages, which are parallel waves of computation composed of tasks. Each stage will correspond to one or more RDDs in the DAG. A single stage can correspond to multiple RDDs due to pipelining.\n",
                "* Tasks are scheduled and executed on a cluster\n",
                "* Stages are processed in order, with individual tasks launching to compute segments of the RDD. Once the final stage is finished in a job, the action is complete.\n",
                "\n",
                "If you visit the application's web UI, you will see how many stages occur in order to\n",
                "fulfill an action. The Spark UI can be accessed via Azure Portal, see [Spark job debugging](https://docs.microsoft.com/en-us/azure/hdinsight/hdinsight-apache-spark-job-debugging)"
            ]
        },
        {
            "cell_type": "markdown",
            "metadata": {},
            "source": [
                "### 3.9 Exercise. \n",
                "\n",
                "1. Why is Spark faster than Hadoop MapReduce?\n",
                "1. Study the examples above via Spark UI. Observe how many stages they have. \n",
                "1. Which of the graphs below are DAGs?\n",
                "![graph](https://ethbigdata2017.blob.core.windows.net/exercise06/dags.png)"
            ]
        },
        {
            "cell_type": "markdown",
            "metadata": {},
            "source": [
                "### Solution:\n",
                "1. There are many reasons for that. Firstly, Spark processes data in-memory while Hadoop MapReduce persists back to the disk after a map or reduce action. Secondly, Spark pipelines transformations to merge them into stages. \n",
                "2. Follow the following [instruction](https://docs.microsoft.com/en-us/azure/hdinsight/hdinsight-apache-spark-job-debugging)\n",
                "3. DAGs: 2,3,4,5,7"
            ]
        },
        {
            "cell_type": "markdown",
            "metadata": {},
            "source": [
                "### 3.10 True or False\n",
                "Say if the following statements are *true* or *false*, and explain why.\n",
                "\n",
                "1. Each RDD is split into multiple partitions, which may be computed on different nodes of the cluster.\n",
                "1. Transformations construct a new RDD from a previous one and immediately calculate the result\n",
                "1. Spark's RDDs are by default recomputed each time you run an action on them\n",
                "1. After computing an RDD, Spark will store its contents in memory and reuse them in future actions.\n",
                "1. When you derive new RDDs using transformations, Spark keeps track of the set of dependencies between different RDDs."
            ]
        },
        {
            "cell_type": "markdown",
            "metadata": {},
            "source": [
                "Solution\n",
                "1. True\n",
                "1. False. Spark will not begin to execute until it sees an action.\n",
                "1. True\n",
                "1. False. Users have to use persist() or cache() for that.\n",
                "1. True"
            ]
        },
        {
            "cell_type": "markdown",
            "metadata": {},
            "source": [
                "## 4. TF-IDF in Spark\n",
                "In this exercise you will implement a simple query engine over the Gutenberg dataset using Spark.\n",
                "The [Gutenberg dataset](http://web.eecs.umich.edu/~lahiri/gutenberg_dataset.html) consists of 3036 free ebooks. The goal of this exercise is to develop a search engine to find the most relevant books given a text query.\n",
                "\n",
                "### 4.1 Get the data\n",
                "You can download the dataset from https://ethbigdata2017.blob.core.windows.net/exercise06/Gutenberg.zip\n",
                "- Create a Spark cluster as explained in the exercise of last week.\n",
                "- When ready, you can upload the dataset into its Blob Storage container. You can either 1) connect via `SSH`, `wget` the dataset, decompress it and upload it to HDFS, or 2) download the dataset on your computer, decompress it locally and upload the dataset folder to the Blob Storage using [Azure Storage Explorer](http://storageexplorer.com/). Before uploading to HDFS run the following command inside the folder where the txt files are, in order name them by their numerical ordering: ```ls | cat -n | while read n f; do mv \"$f\" \"$n.txt\"; done ```\n",
                "- Create a new notebook on the Spark Jupyter server (`https://<cluster-name>.azurehdinsight.net/jupyter`)."
            ]
        },
        {
            "cell_type": "markdown",
            "metadata": {},
            "source": [
                "### 4.2 Understand TF-IDF\n",
                "\n",
                "[TF-IDF](https://en.wikipedia.org/wiki/Tf%E2%80%93idf) is a statistic to determine the relative importance of the words in a set of documents. Is is computed as the product of two statistics, term frequency (`tf`) and inverse document frequency (`idf`). \n",
                "\n",
                "Given a word `t`, a document `d` (in this case, a book) and the collection of all documents `D` we can define `tf(t, d)` as the number of times `t` appears in `d`. This gives us some information about the content of a document but because some terms (eg. \"the\") are so common, term frequency will tend to incorrectly emphasize documents which happen to use the word \"the\" more frequently, without giving enough weight to the more meaningful terms.\n",
                "\n",
                "The inverse document frequency `idf(t, D)` is a measure of how much information the word provides, that is, whether the term is common or rare across all documents. It can be computed as:\n",
                "\n",
                "![idf](https://ethbigdata2017.blob.core.windows.net/exercise05assets/idf.png)\n",
                "\n",
                "where $|D|$ is the total number of documents and the denominator represents how many documents contain the word $t$ at least once. However, this would cause a division-by-zero exception if the user query a word that never appear in the dataset. A better formulation would be:\n",
                "\n",
                "![idf](https://ethbigdata2017.blob.core.windows.net/exercise05assets/idf_smooth.png)\n",
                "\n",
                "Then, the `tdidf(t, d, D)` is calculated as follows:\n",
                "\n",
                "![idf](https://ethbigdata2017.blob.core.windows.net/exercise05assets/tfidf.png)\n",
                "\n",
                "A high weight in `tfidf` is reached by a high term frequency (in the given document) and a low document frequency of the term in the whole collection of documents.\n",
                "\n",
                "Having already implemented TF-IDF last week in pseudocode, in this week we are going to implement it in Spark. The following code snippet imports the whole dataset into an RDD."
            ]
        },
        {
            "cell_type": "code",
            "execution_count": null,
            "metadata": {
                "collapsed": true
            },
            "outputs": [],
            "source": [
                "# sc is automatically defined as SparkContext\n",
                "# docs will be an RDD in the format [(docName, content)]\n",
                "docs = sc.wholeTextFiles(\"/<path-to-gutemberg-folder>/*.txt\", minPartitions=100)"
            ]
        },
        {
            "cell_type": "markdown",
            "metadata": {},
            "source": [
                "### TF-IDF solution code"
            ]
        },
        {
            "cell_type": "code",
            "execution_count": null,
            "metadata": {},
            "outputs": [],
            "source": [
                "# partition the whole dataset into (title, text) pairs\n",
                "# we assume that the files are uploaded into the /tmp/ folder\n",
                "docs = sc.wholeTextFiles(\n",
                "    \"wasb:///tmp/*.txt\", minPartitions=100).map(\n",
                "    lambda a: (a[0].split(\"/tmp/\", 1)[1], a[1]))\n",
                "\n",
                "# count the number of documents\n",
                "doc_number = docs.count()\n",
                "\n",
                "# function that get a text and tokenizes it\n",
                "import re\n",
                "def tokenize(s):\n",
                "  return re.split(\"\\\\W+\", s.lower())\n",
                "\n",
                "# tokenize the text in every document\n",
                "tokenized_text = docs.map(lambda a: (a[0], tokenize(a[1])))\n",
                "\n",
                "# count words in every document\n",
                "term_frequency = tokenized_text.flatMapValues(lambda x: x).countByValue()\n",
                "\n",
                "# calculate the document frequency\n",
                "document_frequency = tokenized_text.flatMapValues(\n",
                "                     lambda x: x).distinct().map(\n",
                "                     lambda a: (a[1] ,a[0])).countByKey()\n",
                "\n",
                "# compute tf-idf\n",
                "import numpy as np\n",
                "\n",
                "def tf_idf(doc_num, term_frequency, document_frequency):\n",
                "    result = []\n",
                "    for key, value in term_frequency.items():\n",
                "        doc = key[0]\n",
                "        term = key[1]\n",
                "        df = document_frequency[term]\n",
                "        if (df>0):\n",
                "          tf_idf = float(value)*np.log(do_num/df)\n",
                "        \n",
                "        result.append({\"doc\":doc, \"score\":tf_idf, \"term\":term})\n",
                "    return result\n",
                "\n",
                "tf_idf_output = tf_idf(number_of_docs, term_frequency, document_frequency)\n",
                "\n",
                "# display the first 100 terms\n",
                "tf_idf_output[:100]"
            ]
        }
    ],
    "metadata": {
        "anaconda-cloud": {},
        "kernelspec": {
            "display_name": "PySpark3",
            "language": "",
            "name": "pyspark3kernel"
        },
        "language_info": {
            "codemirror_mode": {
                "name": "python",
                "version": 3
            },
            "mimetype": "text/x-python",
            "name": "pyspark3",
            "pygments_lexer": "python3"
        }
    },
    "nbformat": 4,
    "nbformat_minor": 1
}
